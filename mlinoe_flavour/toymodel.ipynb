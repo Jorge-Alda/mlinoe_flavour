{
 "cells": [
  {
   "cell_type": "code",
   "execution_count": 1,
   "id": "2b23bc92-501a-4cd8-be7a-8b9187391ecf",
   "metadata": {},
   "outputs": [],
   "source": [
    "import bsm2smeft # Matching of UV models to SMEFT\n",
    "import warnings # Disable some persistent warnings from flavio\n",
    "from tqdm import tqdm # Progress bars\n",
    "import wilson # EFT Wilson coefficients\n",
    "from wilson import Wilson\n",
    "import flavio # Flavour observables in EFTs\n",
    "import numpy as np # Linear algebra\n",
    "from functools import partial # Define functions with some frozen arguments\n",
    "import mlinoe # ML stuff\n",
    "import matplotlib.pyplot as plt # plotting\n",
    "plt.rcParams.update({'text.usetex':True})"
   ]
  },
  {
   "cell_type": "markdown",
   "id": "3a463029-a80f-40fb-a7ee-da372e0fc505",
   "metadata": {},
   "source": [
    "# Part 1: Preparing the training data\n",
    "\n",
    "We study BSM models that can match at tree level to semileptonic 4-fermion SMEFT operators. We follow the notation of [1711.10391](https://arxiv.org/abs/1711.10391)"
   ]
  },
  {
   "cell_type": "code",
   "execution_count": 2,
   "id": "bc08a686-6d82-4489-afc3-d3d1fba001d4",
   "metadata": {},
   "outputs": [],
   "source": [
    "models: list[bsm2smeft.common.Field] = [\n",
    "    bsm2smeft.scalars.phi,\n",
    "    bsm2smeft.scalars.omega1,\n",
    "    bsm2smeft.scalars.omega4,\n",
    "    bsm2smeft.scalars.Pi1,\n",
    "    bsm2smeft.scalars.Pi7,\n",
    "    bsm2smeft.scalars.zeta,\n",
    "    bsm2smeft.vectors.B,\n",
    "    bsm2smeft.vectors.W,\n",
    "    bsm2smeft.vectors.U2,\n",
    "    bsm2smeft.vectors.Q5,\n",
    "    bsm2smeft.vectors.X\n",
    "]"
   ]
  },
  {
   "cell_type": "markdown",
   "id": "93d8ee9d-6a5b-4b8a-a9aa-229c5e5a5624",
   "metadata": {},
   "source": [
    "And for the moment, only 5 observables"
   ]
  },
  {
   "cell_type": "code",
   "execution_count": 3,
   "id": "885a3168-a59a-49eb-b8bb-1f94c07b3114",
   "metadata": {},
   "outputs": [],
   "source": [
    "observables_toymodel = ['BR(B+->Knunu)', ('<dBR/dq2>(B+->Kmumu)', 1.1, 6.0), 'BR(B0->Dtaunu)', ('<Rmue>(B+->Kll)', 1.1, 6.0), 'Rtaul(B->Dlnu)']"
   ]
  },
  {
   "cell_type": "markdown",
   "id": "3cf646cb-bc30-4e8c-b8da-61aac4073dfa",
   "metadata": {},
   "source": [
    "In order to speed up things, we pre-compute the running from the SMEFT to the B-physics scale."
   ]
  },
  {
   "cell_type": "code",
   "execution_count": 4,
   "id": "6f9b009a-2c60-4bf4-ae92-136232b6006b",
   "metadata": {},
   "outputs": [
    {
     "name": "stderr",
     "output_type": "stream",
     "text": [
      "100%|███████████████████████████████████████████████████████████████████████████████████████████████████████████████████████████████████████████████████████████████████████████████| 11/11 [01:03<00:00,  5.76s/it]\n"
     ]
    }
   ],
   "source": [
    "wc_wet = {}\n",
    "\n",
    "with warnings.catch_warnings():\n",
    "    warnings.simplefilter('ignore')\n",
    "    for m in tqdm(models):\n",
    "        b = m(1000, 1000)\n",
    "        for c in b.couplings:\n",
    "            c.universal(1.0)\n",
    "        wmatch = b.match()\n",
    "        for coeff in wmatch.wc.values.keys():\n",
    "            if coeff not in wc_wet.keys():\n",
    "                wc_wet |= {coeff: Wilson({coeff: 1e-6}, basis='Warsaw', eft='SMEFT', scale=1e3).match_run(scale=4.8, basis='flavio', eft='WET')}"
   ]
  },
  {
   "cell_type": "code",
   "execution_count": 5,
   "id": "82f83f29-62a2-4a77-a985-25f2c43cbb73",
   "metadata": {},
   "outputs": [],
   "source": [
    "def combine_wet(wcs: list[Wilson], factors: list[float|complex]) -> Wilson:\n",
    "    '''\n",
    "    Calculates a linear combination of WET Wilson coefficients \n",
    "    '''\n",
    "    coeffs = {}\n",
    "    for wc in wcs:\n",
    "        coeffs = coeffs | {c: 0 for c in wc.values.keys()}\n",
    "    for wc, f in zip(wcs, factors):\n",
    "        for k, v in wc.values.items():\n",
    "            if isinstance(v, float):\n",
    "                coeffs[k] += f*wc.values[k]\n",
    "            else:\n",
    "                coeffs[k] += f*(wc.values[k]['Re'] + 1j*wc.values[k]['Im'])\n",
    "    return Wilson(coeffs, scale=4.8, basis='flavio', eft='WET')\n",
    "\n",
    "def dict2complex(x: float | dict[str, float]) -> complex:\n",
    "    if isinstance(x, dict):\n",
    "        return x['Re']+1j*x['Im']\n",
    "    else:\n",
    "        return x"
   ]
  },
  {
   "cell_type": "markdown",
   "id": "ed5384b0-9775-4d95-bf93-56288b176b4f",
   "metadata": {},
   "source": [
    "The `f_model`'s compute the observables as a function of the parameters of each model. These functions are then wrapped in a `mlinoe.Model` object, taht checks that there are no missing parameters or observables, and prepares por parallelization."
   ]
  },
  {
   "cell_type": "code",
   "execution_count": 6,
   "id": "8f069365-04ee-4599-8c40-b2b3940e145d",
   "metadata": {},
   "outputs": [],
   "source": [
    "mlinoe_models = []\n",
    "\n",
    "def f_model(pars, m):\n",
    "    m0 = m(1000, 1000)\n",
    "    couplings = m0.couplings\n",
    "    for i, ct in enumerate([c.tex for c in couplings]):\n",
    "        m0.couplings[i].universal(pars[ct])\n",
    "\n",
    "    wmatch = m0.match()\n",
    "    # Running of the Wilson coefficients calculated using the pre-computed values\n",
    "    w_b = combine_wet([wc_wet[coeff] for coeff in wmatch.wc.values.keys()], [dict2complex(wmatch.wc.values[coeff])/1e-6 for coeff in wmatch.wc.values.keys()])\n",
    "    obs_val = {}\n",
    "    with warnings.catch_warnings():\n",
    "        warnings.simplefilter('ignore')\n",
    "        for obs in observables_toymodel:\n",
    "            if isinstance(obs, tuple):\n",
    "                obs_val |= {str(obs): flavio.np_prediction(obs[0], w_b, *obs[1:])}\n",
    "            else:\n",
    "                obs_val |= {obs: flavio.np_prediction(obs, w_b)}\n",
    "    return obs_val\n",
    "\n",
    "for m in models:\n",
    "    m0 = m(1000, 1000)\n",
    "    couplings = m0.couplings\n",
    "\n",
    "    sanitized_tex = m0.tex.replace(\"\\\\\", \"\").replace(r'{', '').replace(r'}', '')\n",
    "\n",
    "    # This is a little trick: in order to parallelize and send each coupling to a different core, python requires a function that is pickable (so no a lambda), and has a unique name. In order to create such functions inside a loop, we have to directly mess with locals(), which is a dict that contains all the variables thar are currently defined\n",
    "    locals()[f'f_{sanitized_tex}'] = partial(f_model, m=m)\n",
    "    mlinoe_models.append(mlinoe.Model(m0.tex, [c.tex for c in couplings], [str(obs) for obs in observables_toymodel], locals()[f'f_{sanitized_tex}']))"
   ]
  },
  {
   "cell_type": "markdown",
   "id": "fd4b4a4d-61cb-4e29-980d-9e9452aecef5",
   "metadata": {},
   "source": [
    "We also include the SM predictions (with no free parameters)"
   ]
  },
  {
   "cell_type": "code",
   "execution_count": 7,
   "id": "4887db59-3ba4-4045-936a-6dab70bb66ae",
   "metadata": {},
   "outputs": [],
   "source": [
    "sm_values = {}\n",
    "sm_uncert = {}\n",
    "\n",
    "with warnings.catch_warnings():\n",
    "    warnings.simplefilter('ignore')\n",
    "    for obs in observables_toymodel:\n",
    "        if isinstance(obs, str):\n",
    "            sm_values |= {obs: flavio.sm_prediction(obs)}\n",
    "            sm_uncert |= {obs: flavio.sm_uncertainty(obs)}     \n",
    "        else:\n",
    "            sm_values |= {str(obs): flavio.sm_prediction(*obs)}\n",
    "            sm_uncert |= {str(obs): flavio.sm_uncertainty(*obs)}   "
   ]
  },
  {
   "cell_type": "code",
   "execution_count": 8,
   "id": "0f448081-bc1f-4a86-9171-34088fbafae5",
   "metadata": {},
   "outputs": [],
   "source": [
    "def f_SM(pars):\n",
    "    obs_val = {}\n",
    "    for obs in observables_toymodel:\n",
    "        obs_val |= {str(obs): float(sm_values[str(obs)] + np.random.normal()*sm_uncert[str(obs)])}\n",
    "    return obs_val\n",
    "\n",
    "mlinoe_models.append(mlinoe.classes.Model(\"SM\", [], [str(obs) for obs in observables_toymodel], f_SM))"
   ]
  },
  {
   "cell_type": "markdown",
   "id": "cb921e4e-8c64-4eb9-8ab0-725b05f6824d",
   "metadata": {},
   "source": [
    "and finally we compute the training dataset. For the toy model, we impose that the couplings are flavour-universal, and are generated according to\n",
    "$$g = s \\times 10^u$$\n",
    "where $s$ is randomly chosen in $\\{-1, +1\\}$, and $u\\sim \\mathcal{N}(0,1)$ is distributed normally."
   ]
  },
  {
   "cell_type": "code",
   "execution_count": 9,
   "id": "51febd49-a0a9-4ddb-92ed-9f20aca0b54f",
   "metadata": {},
   "outputs": [],
   "source": [
    "N_points = 1000\n",
    "\n",
    "for mm in mlinoe_models:\n",
    "    couplings = [{c: (2*np.random.randint(0, 2)-1)*10**np.random.normal() for c in mm.parameters} for _ in range(N_points)]\n",
    "    mm.batch_save(couplings, 'toymodel', 10)"
   ]
  },
  {
   "cell_type": "markdown",
   "id": "5a5754b3-f282-465f-a258-ddaa39b41346",
   "metadata": {},
   "source": [
    "The datasets include the parameters used in each iteration, the observables and the model."
   ]
  },
  {
   "cell_type": "markdown",
   "id": "334d84b1-8c6b-42bf-a9ce-91804bfaad76",
   "metadata": {},
   "source": [
    "# Part 2: Machine Learning\n",
    "\n",
    "We have implemented a classifier based on `xgboost`, a boosted decision/regression tree algorithm.\n",
    "\n",
    "The prediction of the algorithm is an array of numbers, whose length is the total number of models included in the training dataset. These numbers are in $[0, 1)$, and their sum is 1, and can be interpreted as the probability asigned by the algorithm for the input corresponding to each model."
   ]
  },
  {
   "cell_type": "code",
   "execution_count": 10,
   "id": "98313ee8-50cb-4096-ae8e-845e505917bc",
   "metadata": {},
   "outputs": [],
   "source": [
    "xc1 = mlinoe.XClassifier.from_dataset('toymodel', model_pars={'n_estimators': 20, 'tree_method':'approx'})"
   ]
  },
  {
   "cell_type": "code",
   "execution_count": 11,
   "id": "3b38957e-dd65-4d4c-b5f6-fadd883d507a",
   "metadata": {},
   "outputs": [],
   "source": [
    "xc1.train()"
   ]
  },
  {
   "cell_type": "markdown",
   "id": "5f1bbd2b-0a74-4b98-a733-7bbebf5678c1",
   "metadata": {},
   "source": [
    "Once we have trained the algorithm, some diagnostics run on the test sub-dataset:\n",
    "- precision is the proportion of points identified as corresponding to the model which have actually been generated by the model.\n",
    "- recall is the proportion of pointsgenerated by the model which have actually been identified correctly.\n",
    "- $f_1 = 2\\frac{\\mathrm{precision}\\times\\mathrm{recall}}{\\mathrm{precision}+\\mathrm{recall}}$"
   ]
  },
  {
   "cell_type": "code",
   "execution_count": 12,
   "id": "061b3e07-a0d2-4ee0-b380-f733ac3abf32",
   "metadata": {},
   "outputs": [
    {
     "name": "stdout",
     "output_type": "stream",
     "text": [
      "               precision    recall  f1-score   support\n",
      "\n",
      "           SM       0.99      1.00      0.99       298\n",
      "        \\Pi_1       0.99      0.99      0.99       274\n",
      "        \\Pi_7       0.96      0.79      0.87       301\n",
      "  \\mathcal{B}       0.95      0.77      0.85       295\n",
      "\\mathcal{Q}_5       0.97      0.86      0.91       310\n",
      "\\mathcal{U}_2       0.91      0.85      0.88       308\n",
      "  \\mathcal{W}       0.84      0.96      0.90       298\n",
      "  \\mathcal{X}       0.84      0.91      0.88       298\n",
      "     \\omega_1       0.85      1.00      0.92       305\n",
      "     \\omega_4       0.95      1.00      0.98       336\n",
      "      \\varphi       0.87      0.93      0.90       296\n",
      "        \\zeta       0.98      1.00      0.99       281\n",
      "\n",
      "     accuracy                           0.92      3600\n",
      "    macro avg       0.93      0.92      0.92      3600\n",
      " weighted avg       0.93      0.92      0.92      3600\n",
      "\n"
     ]
    }
   ],
   "source": [
    "xc1.report()"
   ]
  },
  {
   "cell_type": "markdown",
   "id": "f84518ae-3ae5-48d4-a430-9352a504211a",
   "metadata": {},
   "source": [
    "Confusion matrix: the entry in the $i$-th row and $j$-th column indicates the number of samples that actually belong to $i$ and have been predicted as $j$."
   ]
  },
  {
   "cell_type": "code",
   "execution_count": 13,
   "id": "6766a511-4166-44e5-b429-23420025b42d",
   "metadata": {},
   "outputs": [
    {
     "data": {
      "image/png": "[encoded data removed]",
      "text/plain": [
       "<Figure size 480x480 with 2 Axes>"
      ]
     },
     "metadata": {},
     "output_type": "display_data"
    }
   ],
   "source": [
    "xc1.confusion()"
   ]
  },
  {
   "cell_type": "markdown",
   "id": "c2b5b39c-8c4a-462b-8492-daaaaa333f08",
   "metadata": {},
   "source": [
    "Now let us see the method in action: we input the experimental values to the classifier and see which model, according to the classifier, describes better the data. We check two experimental situations: before 2023, when there was an anomaly in $R_K$, and after 2023, without anomaly"
   ]
  },
  {
   "cell_type": "code",
   "execution_count": 14,
   "id": "e45e4090-69bc-4538-ba73-928952d617cb",
   "metadata": {},
   "outputs": [],
   "source": [
    "exp_old = {k: v for k, v in zip(['BR(B+->Knunu)', \"('<dBR/dq2>(B+->Kmumu)', 1.1, 6.0)\", 'BR(B0->Dtaunu)', \"('<Rmue>(B+->Kll)', 1.1, 6.0)\", 'Rtaul(B->Dlnu)'], [1.3e-5, 2.42e-8, 0.0105, 0.846, 0.344])}\n",
    "exp_new = {k: v for k, v in zip(['BR(B+->Knunu)', \"('<dBR/dq2>(B+->Kmumu)', 1.1, 6.0)\", 'BR(B0->Dtaunu)', \"('<Rmue>(B+->Kll)', 1.1, 6.0)\", 'Rtaul(B->Dlnu)'], [1.3e-5, 2.42e-8, 0.0105, 0.949, 0.344])}\n",
    "\n",
    "unc_old = {k: v for k, v in zip(['BR(B+->Knunu)', \"('<dBR/dq2>(B+->Kmumu)', 1.1, 6.0)\", 'BR(B0->Dtaunu)', \"('<Rmue>(B+->Kll)', 1.1, 6.0)\", 'Rtaul(B->Dlnu)'], [0.4e-5, (0.07**2+0.12**2)**0.5*1e-8, 0.0023, 0.044, 0.026])}\n",
    "unc_new = {k: v for k, v in zip(['BR(B+->Knunu)', \"('<dBR/dq2>(B+->Kmumu)', 1.1, 6.0)\", 'BR(B0->Dtaunu)', \"('<Rmue>(B+->Kll)', 1.1, 6.0)\", 'Rtaul(B->Dlnu)'], [0.4e-5, (0.07**2+0.12**2)**0.5*1e-8, 0.0023, (0.042**2+0.022**2)**0.5, 0.026])}"
   ]
  },
  {
   "cell_type": "markdown",
   "id": "a2c475e9-9049-4619-96fe-6469230f46a5",
   "metadata": {},
   "source": [
    "Prediction for the central values"
   ]
  },
  {
   "cell_type": "code",
   "execution_count": 15,
   "id": "f7e69f1d-bd77-4d26-9f21-db572dbb24f7",
   "metadata": {},
   "outputs": [],
   "source": [
    "prob_old = xc1.predict_prob_dict(exp_old)\n",
    "prob_new = xc1.predict_prob_dict(exp_new)"
   ]
  },
  {
   "cell_type": "markdown",
   "id": "146e28e8-66b4-4c18-b2f8-402ace210d2e",
   "metadata": {},
   "source": [
    "and inside the error margin"
   ]
  },
  {
   "cell_type": "code",
   "execution_count": 16,
   "id": "32b1f15b-5ec2-48c1-ac47-c0ace2905550",
   "metadata": {},
   "outputs": [],
   "source": [
    "probunc_old = []\n",
    "probunc_new = []\n",
    "for _ in range(500):\n",
    "    val_old = {k: exp_old[k] + np.random.normal()*unc_old[k] for k in exp_old.keys()}\n",
    "    val_new = {k: exp_new[k] + np.random.normal()*unc_new[k] for k in exp_new.keys()}\n",
    "    probunc_old.append(xc1.predict_prob_dict(val_old))\n",
    "    probunc_new.append(xc1.predict_prob_dict(val_new))"
   ]
  },
  {
   "cell_type": "code",
   "execution_count": 17,
   "id": "650b7efc-43c5-4351-a9bc-a251a50c1550",
   "metadata": {},
   "outputs": [],
   "source": [
    "q1_old = np.quantile(probunc_old, 0.2, axis=0)\n",
    "q9_old = np.quantile(probunc_old, 0.8, axis=0)\n",
    "\n",
    "q1_new = np.quantile(probunc_new, 0.2, axis=0)\n",
    "q9_new = np.quantile(probunc_new, 0.8, axis=0)"
   ]
  },
  {
   "cell_type": "markdown",
   "id": "25adf0a5-cd72-42d0-90ed-47d76a3dab9f",
   "metadata": {},
   "source": [
    "The error bars correspond to the probabilty intervals between percentile 20 and percentile 80"
   ]
  },
  {
   "cell_type": "code",
   "execution_count": 18,
   "id": "c7d128ab-2918-4981-bdc5-fa6fb022e8fc",
   "metadata": {},
   "outputs": [
    {
     "data": {
      "text/plain": [
       "<matplotlib.legend.Legend at 0x7f15ab19bc70>"
      ]
     },
     "execution_count": 18,
     "metadata": {},
     "output_type": "execute_result"
    },
    {
     "data": {
      "image/png": "[encoded data removed]",
      "text/plain": [
       "<Figure size 640x480 with 1 Axes>"
      ]
     },
     "metadata": {},
     "output_type": "display_data"
    }
   ],
   "source": [
    "plt.errorbar(range(len(prob_old)), prob_old, [prob_old-q1_old, q9_old-prob_old], label=r\"pre $R_K$ '23\", fmt='o')\n",
    "plt.errorbar(np.array(range(len(prob_new)))+0.2, prob_new, [prob_new-q1_new, q9_new-prob_new], label=r\"post $R_K$ '23\", fmt='o')\n",
    "ax = plt.gca()\n",
    "ax.set_yscale('log')\n",
    "plt.xticks(range(len(xc1.labels)), [f'${l}$' for l in xc1.labels], fontsize=16)\n",
    "plt.ylabel('Probability', fontsize=16)\n",
    "plt.legend(fontsize=14)"
   ]
  },
  {
   "cell_type": "markdown",
   "id": "020382d4-2543-450b-9e6e-c5a1afdf3612",
   "metadata": {},
   "source": [
    "The preferred model is the vector leptoquark $\\mathcal{X}\\sim (3, 3)_{2/3}$ (aka $U_3$), followed by $\\mathcal{U}_2 \\sim (3, 1)_{2/3}$ (aka $U_1$)\n",
    "\n",
    "$$\\mathcal{L} = \\sum_i\\left( g_{\\mathcal{U}_2}^{ed} \\mathcal{U}_2^{\\mu\\dagger}\\bar{e}_{Ri}\\gamma_\\mu d_{Ri} + g_{\\mathcal{U}_2}^{\\ell q} \\mathcal{U}_2^{\\mu\\dagger}\\bar{\\ell}_{Li}\\gamma_\\mu q_{Li}+\\frac{1}{2}g_\\mathcal{X}\\mathcal{X}^{\\mu\\dagger}_a \\bar{\\ell}_{Li}\\gamma_\\mu \\sigma^a q_{Li} + \\mathrm{h.c.} \\right)$$"
   ]
  },
  {
   "cell_type": "code",
   "execution_count": null,
   "id": "bfd5ef1e-a1f0-4fd0-b344-1ecbafd83cb6",
   "metadata": {},
   "outputs": [],
   "source": []
  }
 ],
 "metadata": {
  "kernelspec": {
   "display_name": "mlinoe",
   "language": "python",
   "name": "mlinoe"
  },
  "language_info": {
   "codemirror_mode": {
    "name": "ipython",
    "version": 3
   },
   "file_extension": ".py",
   "mimetype": "text/x-python",
   "name": "python",
   "nbconvert_exporter": "python",
   "pygments_lexer": "ipython3",
   "version": "3.10.14"
  }
 },
 "nbformat": 4,
 "nbformat_minor": 5
}
